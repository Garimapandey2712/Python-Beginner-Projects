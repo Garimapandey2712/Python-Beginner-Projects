{
 "cells": [
  {
   "cell_type": "code",
   "execution_count": 2,
   "metadata": {},
   "outputs": [],
   "source": [
    "#'99 bottles of beer on the wall, 99 bottles of beer.','Take one down and pass it around, 98 bottles of beer on the wall.',''"
   ]
  },
  {
   "cell_type": "code",
   "execution_count": 3,
   "metadata": {},
   "outputs": [],
   "source": [
    "def sing(num_bottles):\n",
    "    A=[]\n",
    "    for n in range (num_bottles,0,-1):\n",
    "        A.append('{n} bottles of beer on the wall, {n} bottles of beer.'.format(n=n))\n",
    "        A.append('Take one down and pass it around, {n} bottles of beer on the wall'.format(n=n-1))\n",
    "        A.append(' ')\n",
    "    return A"
   ]
  },
  {
   "cell_type": "code",
   "execution_count": 4,
   "metadata": {
    "scrolled": true
   },
   "outputs": [
    {
     "data": {
      "text/plain": [
       "['3 bottles of beer on the wall, 3 bottles of beer.',\n",
       " 'Take one down and pass it around, 2 bottles of beer on the wall',\n",
       " ' ',\n",
       " '2 bottles of beer on the wall, 2 bottles of beer.',\n",
       " 'Take one down and pass it around, 1 bottles of beer on the wall',\n",
       " ' ',\n",
       " '1 bottles of beer on the wall, 1 bottles of beer.',\n",
       " 'Take one down and pass it around, 0 bottles of beer on the wall',\n",
       " ' ']"
      ]
     },
     "execution_count": 4,
     "metadata": {},
     "output_type": "execute_result"
    }
   ],
   "source": [
    "sing(3)"
   ]
  },
  {
   "cell_type": "code",
   "execution_count": 5,
   "metadata": {},
   "outputs": [],
   "source": [
    "#Alternate way\n",
    "\n",
    "def sing(num_bottles):\n",
    "    my_list = [('{i} bottles of beer on the wall, {i} bottles of beer'.format(i=i), 'Take one down and pass it around, {i} bottles of beer on the wall'.format(i=i-1),' ') for i in range (num_bottles,0,-1)]\n",
    "    return my_list"
   ]
  },
  {
   "cell_type": "code",
   "execution_count": null,
   "metadata": {},
   "outputs": [],
   "source": []
  },
  {
   "cell_type": "code",
   "execution_count": 31,
   "metadata": {},
   "outputs": [],
   "source": [
    "def song(num):\n",
    "    for n in range (num):\n",
    "        num=num-1\n",
    "        ans = [(str(num+1) +' bottles of beer on the wall, ' + str(num+1) + ' bottles of beer.')] \n",
    "        rem = [('Take one down and pass it around, ' + str(num) + ' bottles of beer on the wall')]\n",
    "        last = [(' ')]\n",
    "        print(ans+rem+last)"
   ]
  },
  {
   "cell_type": "code",
   "execution_count": 32,
   "metadata": {},
   "outputs": [
    {
     "name": "stdout",
     "output_type": "stream",
     "text": [
      "['5 bottles of beer on the wall, 5 bottles of beer.', 'Take one down and pass it around, 4 bottles of beer on the wall', ' ']\n",
      "['4 bottles of beer on the wall, 4 bottles of beer.', 'Take one down and pass it around, 3 bottles of beer on the wall', ' ']\n",
      "['3 bottles of beer on the wall, 3 bottles of beer.', 'Take one down and pass it around, 2 bottles of beer on the wall', ' ']\n",
      "['2 bottles of beer on the wall, 2 bottles of beer.', 'Take one down and pass it around, 1 bottles of beer on the wall', ' ']\n",
      "['1 bottles of beer on the wall, 1 bottles of beer.', 'Take one down and pass it around, 0 bottles of beer on the wall', ' ']\n"
     ]
    }
   ],
   "source": [
    "song(5)"
   ]
  },
  {
   "cell_type": "code",
   "execution_count": 33,
   "metadata": {},
   "outputs": [
    {
     "name": "stdout",
     "output_type": "stream",
     "text": [
      "[1, 2, 3, 4, 6, 7]\n"
     ]
    }
   ],
   "source": [
    "A= [1,2,3]\n",
    "B= [4,6,7]\n",
    "print(A+B)"
   ]
  },
  {
   "cell_type": "code",
   "execution_count": null,
   "metadata": {},
   "outputs": [],
   "source": []
  },
  {
   "cell_type": "code",
   "execution_count": null,
   "metadata": {},
   "outputs": [],
   "source": []
  }
 ],
 "metadata": {
  "kernelspec": {
   "display_name": "Python 3",
   "language": "python",
   "name": "python3"
  }
 },
 "nbformat": 4,
 "nbformat_minor": 4
}
